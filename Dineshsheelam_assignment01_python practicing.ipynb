{
 "cells": [
  {
   "cell_type": "markdown",
   "id": "a0076141",
   "metadata": {},
   "source": [
    "# Assignment #01\n",
    "\n",
    "This assignment is composed of multiple Python and NumPy programming exercises. The deliverable of this assignment is this jupyter-notebook completed with your solution.\n",
    "\n",
    "You are being assessed based on:\n",
    "\n",
    "1. Code execution - 25% \n",
    "2. Clarity of the code (e.g., easy to follow, has pertinent comments, etc.) - 25%\n",
    "3. Proper usage of the techniques seen in class - 25% \n",
    "4. Quality and correcteness of the results - 25%\n",
    "\n",
    "Points distribution:\n",
    "- Question 2-21: 3 points per question \n",
    "- Questions 22-26: 8 points per question (total 40)\n",
    "- Total: 100 ponits"
   ]
  },
  {
   "cell_type": "code",
   "execution_count": 17,
   "id": "406e1cc3",
   "metadata": {},
   "outputs": [],
   "source": [
    "import matplotlib.pylab as plt"
   ]
  },
  {
   "cell_type": "markdown",
   "id": "e630a6ff",
   "metadata": {},
   "source": [
    "**1. Import the numpy package under the name np**"
   ]
  },
  {
   "cell_type": "code",
   "execution_count": 2,
   "id": "a8189569",
   "metadata": {},
   "outputs": [],
   "source": [
    "import numpy as np"
   ]
  },
  {
   "cell_type": "markdown",
   "id": "69481ae6",
   "metadata": {},
   "source": [
    "**2. Print the numpy version and the configuration**"
   ]
  },
  {
   "cell_type": "raw",
   "id": "7e369aec-ea47-4d50-9d54-addf59a74b56",
   "metadata": {},
   "source": [
    "print(np.__version__)"
   ]
  },
  {
   "cell_type": "markdown",
   "id": "488e5b7e",
   "metadata": {},
   "source": [
    "**3. Create a 1D array of zeros of size 10 of type float32**"
   ]
  },
  {
   "cell_type": "code",
   "execution_count": 19,
   "id": "e0325599",
   "metadata": {},
   "outputs": [
    {
     "data": {
      "text/plain": [
       "array([0., 0., 0., 0., 0., 0., 0., 0., 0., 0.], dtype=float32)"
      ]
     },
     "execution_count": 19,
     "metadata": {},
     "output_type": "execute_result"
    }
   ],
   "source": [
    "np.zeros(10,dtype=np.float32)"
   ]
  },
  {
   "cell_type": "markdown",
   "id": "2bb9ce0d",
   "metadata": {},
   "source": [
    "**4. Print the memory size of the array below**"
   ]
  },
  {
   "cell_type": "code",
   "execution_count": 20,
   "id": "c585efa0",
   "metadata": {},
   "outputs": [
    {
     "name": "stdout",
     "output_type": "stream",
     "text": [
      "3072\n"
     ]
    }
   ],
   "source": [
    "z = np.zeros((32,12))\n",
    "# Include your solution below\n",
    "print(z.nbytes)\n",
    "\n"
   ]
  },
  {
   "cell_type": "markdown",
   "id": "ac3c1619",
   "metadata": {},
   "source": [
    "**5. Create a 1D array with values ranging from 10 to 58**"
   ]
  },
  {
   "cell_type": "code",
   "execution_count": 21,
   "id": "a7dad49f",
   "metadata": {},
   "outputs": [
    {
     "data": {
      "text/plain": [
       "array([10, 11, 12, 13, 14, 15, 16, 17, 18, 19, 20, 21, 22, 23, 24, 25, 26,\n",
       "       27, 28, 29, 30, 31, 32, 33, 34, 35, 36, 37, 38, 39, 40, 41, 42, 43,\n",
       "       44, 45, 46, 47, 48, 49, 50, 51, 52, 53, 54, 55, 56, 57, 58])"
      ]
     },
     "execution_count": 21,
     "metadata": {},
     "output_type": "execute_result"
    }
   ],
   "source": [
    "np.arange(10,59)"
   ]
  },
  {
   "cell_type": "markdown",
   "id": "481bc867",
   "metadata": {},
   "source": [
    "**6. Reverse the order of the values in the vector (first element becomes last)**"
   ]
  },
  {
   "cell_type": "code",
   "execution_count": 22,
   "id": "666b7284",
   "metadata": {},
   "outputs": [
    {
     "name": "stdout",
     "output_type": "stream",
     "text": [
      "[9 8 7 6 5 4 3 2 1 0]\n"
     ]
    }
   ],
   "source": [
    "a = np.arange(10)\n",
    "# Include your solution below\n",
    "print(a[::-1])\n"
   ]
  },
  {
   "cell_type": "markdown",
   "id": "4015e4b7",
   "metadata": {},
   "source": [
    "**7. Create a 3x3 matrix with values ranging from 0 to 8**"
   ]
  },
  {
   "cell_type": "code",
   "execution_count": 23,
   "id": "5473afb8",
   "metadata": {},
   "outputs": [
    {
     "name": "stdout",
     "output_type": "stream",
     "text": [
      "[[0 1 2]\n",
      " [3 4 5]\n",
      " [6 7 8]]\n"
     ]
    }
   ],
   "source": [
    "b = np.arange(0,9)\n",
    "mat3 = b.reshape(3, 3)\n",
    "print(mat3)"
   ]
  },
  {
   "cell_type": "markdown",
   "id": "5c4bc51f",
   "metadata": {},
   "source": [
    "**8. Create a 3x3 identity matrix**"
   ]
  },
  {
   "cell_type": "code",
   "execution_count": 31,
   "id": "53021a53",
   "metadata": {},
   "outputs": [
    {
     "name": "stdout",
     "output_type": "stream",
     "text": [
      "[[1. 0. 0.]\n",
      " [0. 1. 0.]\n",
      " [0. 0. 1.]]\n"
     ]
    }
   ],
   "source": [
    "b = np.identity(3)\n",
    "print(b)"
   ]
  },
  {
   "cell_type": "markdown",
   "id": "ece658cf",
   "metadata": {},
   "source": [
    "**9. Find and print the maximum values of each column in the array below** "
   ]
  },
  {
   "cell_type": "code",
   "execution_count": 35,
   "id": "0e9fb437",
   "metadata": {},
   "outputs": [
    {
     "name": "stdout",
     "output_type": "stream",
     "text": [
      "[0.98972206 0.93712212 0.95418284 0.95415622 0.63201979 0.94892902\n",
      " 0.9400166  0.99230493 0.97739987 0.8972859  0.98455575]\n"
     ]
    }
   ],
   "source": [
    "z = np.random.random((10,11))\n",
    "# Include your solution belo\n",
    "\n",
    "# Find the maximum values of each column\n",
    "max_values = np.max(z, axis=0)\n",
    "\n",
    "# Print the maximum values\n",
    "print(max_values)\n",
    "\n",
    "\n"
   ]
  },
  {
   "cell_type": "markdown",
   "id": "8f5454c7",
   "metadata": {},
   "source": [
    "**10. Create a $7 \\times 7$ array with 1s on the borders (first row and column, last row and columns) and 0s everywhere else**"
   ]
  },
  {
   "cell_type": "code",
   "execution_count": 40,
   "id": "1d875733",
   "metadata": {},
   "outputs": [
    {
     "name": "stdout",
     "output_type": "stream",
     "text": [
      "[[1. 1. 1. 1. 1. 1. 1.]\n",
      " [1. 0. 0. 0. 0. 0. 1.]\n",
      " [1. 0. 0. 0. 0. 0. 1.]\n",
      " [1. 0. 0. 0. 0. 0. 1.]\n",
      " [1. 0. 0. 0. 0. 0. 1.]\n",
      " [1. 0. 0. 0. 0. 0. 1.]\n",
      " [1. 1. 1. 1. 1. 1. 1.]]\n"
     ]
    }
   ],
   "source": [
    "\n",
    "# Create a 7x7 array of zeros\n",
    "array = np.zeros((7, 7))\n",
    "\n",
    "# Fill the borders with 1s\n",
    "array[0, :] = 1\n",
    "array[-1, :] = 1\n",
    "array[:, 0] = 1\n",
    "array[:, -1] = 1\n",
    "\n",
    "print(array)\n"
   ]
  },
  {
   "cell_type": "markdown",
   "id": "17463bad",
   "metadata": {
    "jupyter": {
     "source_hidden": true
    }
   },
   "source": [
    "**11. Pad the existing array below with zeros (i.e., add additional rows and columns with zeros). Use the NumPy pad function.**"
   ]
  },
  {
   "cell_type": "code",
   "execution_count": 3,
   "id": "d0c886eb",
   "metadata": {},
   "outputs": [
    {
     "name": "stdout",
     "output_type": "stream",
     "text": [
      "Original array:\n",
      "[[1. 1. 1. 1. 1.]\n",
      " [1. 1. 1. 1. 1.]\n",
      " [1. 1. 1. 1. 1.]\n",
      " [1. 1. 1. 1. 1.]\n",
      " [1. 1. 1. 1. 1.]]\n",
      "\n",
      "Padded array:\n",
      "[[0. 0. 0. 0. 0. 0. 0. 0. 0.]\n",
      " [0. 0. 0. 0. 0. 0. 0. 0. 0.]\n",
      " [0. 0. 1. 1. 1. 1. 1. 0. 0.]\n",
      " [0. 0. 1. 1. 1. 1. 1. 0. 0.]\n",
      " [0. 0. 1. 1. 1. 1. 1. 0. 0.]\n",
      " [0. 0. 1. 1. 1. 1. 1. 0. 0.]\n",
      " [0. 0. 1. 1. 1. 1. 1. 0. 0.]\n",
      " [0. 0. 0. 0. 0. 0. 0. 0. 0.]\n",
      " [0. 0. 0. 0. 0. 0. 0. 0. 0.]]\n"
     ]
    }
   ],
   "source": [
    "z = np.ones((5,5))\n",
    "# Include your solution below\n",
    "padded_z = np.pad(z, pad_width=2, mode='constant', constant_values=0)\n",
    "\n",
    "print(\"Original array:\")\n",
    "print(z)\n",
    "print(\"\\nPadded array:\")\n",
    "print(padded_z)\n"
   ]
  },
  {
   "cell_type": "markdown",
   "id": "cc605db6",
   "metadata": {},
   "source": [
    "**12. Extract the integer part of the random array of positive numbers below**"
   ]
  },
  {
   "cell_type": "code",
   "execution_count": 4,
   "id": "91262309",
   "metadata": {},
   "outputs": [
    {
     "name": "stdout",
     "output_type": "stream",
     "text": [
      "Original array:\n",
      "[4.66569807 9.93285537 8.22996617 9.77252937 7.28481224 6.11767034\n",
      " 0.47722807 1.99414288 5.23637888 3.61679143]\n",
      "\n",
      "Integer part:\n",
      "[4 9 8 9 7 6 0 1 5 3]\n"
     ]
    }
   ],
   "source": [
    "z = np.random.uniform(0,10,10)\n",
    "# Include your solution below\n",
    "integer_part = z.astype(int)\n",
    "\n",
    "print(\"Original array:\")\n",
    "print(z)\n",
    "print(\"\\nInteger part:\")\n",
    "print(integer_part)\n"
   ]
  },
  {
   "cell_type": "markdown",
   "id": "b2322f9e",
   "metadata": {},
   "source": [
    "**13. Create a 5x5 matrix with rows with equal values ranging from 0 to 4 (i.e., [[0. 1. 2. 3. 4.]\n",
    " [0. 1. 2. 3. 4.]\n",
    " [0. 1. 2. 3. 4.]\n",
    " [0. 1. 2. 3. 4.]\n",
    " [0. 1. 2. 3. 4.]])**\n",
    "\n"
   ]
  },
  {
   "cell_type": "code",
   "execution_count": 5,
   "id": "7e5020cf",
   "metadata": {},
   "outputs": [
    {
     "name": "stdout",
     "output_type": "stream",
     "text": [
      "[[0 1 2 3 4]\n",
      " [0 1 2 3 4]\n",
      " [0 1 2 3 4]\n",
      " [0 1 2 3 4]\n",
      " [0 1 2 3 4]]\n"
     ]
    }
   ],
   "source": [
    "matrix = np.tile(np.arange(5), (5, 1))\n",
    "print(matrix)"
   ]
  },
  {
   "cell_type": "markdown",
   "id": "a0e33aa2",
   "metadata": {},
   "source": [
    "**14. Create a vector of size 10 with values ranging from 0 to 1 (0 and 1 not included)**\n",
    "\n",
    "*Hint: Consider using the linspace function*"
   ]
  },
  {
   "cell_type": "code",
   "execution_count": 6,
   "id": "9dedac47",
   "metadata": {},
   "outputs": [
    {
     "name": "stdout",
     "output_type": "stream",
     "text": [
      "[0.09090909 0.18181818 0.27272727 0.36363636 0.45454545 0.54545455\n",
      " 0.63636364 0.72727273 0.81818182 0.90909091]\n"
     ]
    }
   ],
   "source": [
    "vector = np.linspace(0, 1, 12)[1:-1]\n",
    "print(vector)"
   ]
  },
  {
   "cell_type": "markdown",
   "id": "7f53938a",
   "metadata": {},
   "source": [
    "**15. Create a random vector of size 10 and sort it**"
   ]
  },
  {
   "cell_type": "code",
   "execution_count": 7,
   "id": "5344f46b",
   "metadata": {},
   "outputs": [
    {
     "name": "stdout",
     "output_type": "stream",
     "text": [
      "Original random vector:\n",
      "[0.80188516 0.19159207 0.13944832 0.67368786 0.64554588 0.56507608\n",
      " 0.48201781 0.56040865 0.94792394 0.45523953]\n",
      "\n",
      "Sorted vector:\n",
      "[0.13944832 0.19159207 0.45523953 0.48201781 0.56040865 0.56507608\n",
      " 0.64554588 0.67368786 0.80188516 0.94792394]\n"
     ]
    }
   ],
   "source": [
    "random_vector = np.random.random(10)\n",
    "\n",
    "sorted_vector = np.sort(random_vector)\n",
    "\n",
    "print(\"Original random vector:\")\n",
    "print(random_vector)\n",
    "print(\"\\nSorted vector:\")\n",
    "print(sorted_vector)\n"
   ]
  },
  {
   "cell_type": "markdown",
   "id": "993d1dcd",
   "metadata": {},
   "source": [
    "**16. Consider the cartesian coordinates below (x and y), convert them to polar coordinates (r and θ)**\n",
    " <br> **Cartesian ordered pair (x, y) converts to the Polar ordered pair**\n",
    " <br> Since \n",
    "\\begin{equation*}\n",
    "\\tan\\theta=\\frac{y}{x},\\\\   \n",
    "\\theta=\\tan^{−1}\\frac{y}{x} \n",
    "\\end{equation*}\n",
    "<br>So, the Cartesian ordered pair (x,y) converts to the Polar ordered pair\n",
    "\\begin{equation*}\n",
    " (r,\\theta)=(\\sqrt{x^2+y^2},\\tan^{−1}\\frac{y}{x}) \n",
    "\\end{equation*}"
   ]
  },
  {
   "cell_type": "code",
   "execution_count": 8,
   "id": "352ee19a",
   "metadata": {},
   "outputs": [
    {
     "name": "stdout",
     "output_type": "stream",
     "text": [
      "Cartesian coordinates (x, y):\n",
      "[[0.61849837 0.68119907]\n",
      " [0.32696468 0.09290839]\n",
      " [0.52863076 0.05559332]\n",
      " [0.73922835 0.02338143]\n",
      " [0.24752346 0.50616324]\n",
      " [0.89042606 0.2469983 ]\n",
      " [0.15890894 0.85282096]\n",
      " [0.05543616 0.09015515]\n",
      " [0.81694541 0.10611334]\n",
      " [0.04653406 0.17569094]]\n",
      "\n",
      "Polar coordinates (r, θ):\n",
      "[[0.92009369 0.83360333]\n",
      " [0.33990862 0.27685673]\n",
      " [0.53154595 0.10477961]\n",
      " [0.73959803 0.03161897]\n",
      " [0.56344396 1.11597201]\n",
      " [0.92404909 0.27058996]\n",
      " [0.86749965 1.3865757 ]\n",
      " [0.10583534 1.01949485]\n",
      " [0.82380813 0.12916719]\n",
      " [0.18174907 1.31187844]]\n"
     ]
    }
   ],
   "source": [
    "z = np.random.random((10,2))\n",
    "x,y = z[:,0], z[:,1]\n",
    "\n",
    "# Include your solution below\n",
    "r = np.sqrt(x**2 + y**2)\n",
    "theta = np.arctan2(y, x)\n",
    "\n",
    "print(\"Cartesian coordinates (x, y):\")\n",
    "print(z)\n",
    "print(\"\\nPolar coordinates (r, θ):\")\n",
    "print(np.column_stack((r, theta)))\n",
    "\n"
   ]
  },
  {
   "cell_type": "markdown",
   "id": "1a70d322",
   "metadata": {},
   "source": [
    "**17. Create random vector of size 20 and replace the maximum value by -10**"
   ]
  },
  {
   "cell_type": "code",
   "execution_count": 9,
   "id": "afcdb30c",
   "metadata": {},
   "outputs": [
    {
     "name": "stdout",
     "output_type": "stream",
     "text": [
      "Random vector with maximum value replaced:\n",
      "[  0.64411914 -10.           0.21538106   0.91932991   0.21960006\n",
      "   0.12876133   0.29664096   0.53074826   0.2301075    0.24164575\n",
      "   0.77660791   0.29587709   0.97440541   0.27709669   0.81670505\n",
      "   0.90835827   0.23942856   0.56654644   0.27611495   0.49622455]\n",
      "\n",
      "Index of the replaced maximum value: 1\n"
     ]
    }
   ],
   "source": [
    "random_vector = np.random.random(20)\n",
    "\n",
    "max_index = np.argmax(random_vector)\n",
    "\n",
    "random_vector[max_index] = -10\n",
    "\n",
    "print(\"Random vector with maximum value replaced:\")\n",
    "print(random_vector)\n",
    "print(\"\\nIndex of the replaced maximum value:\", max_index)"
   ]
  },
  {
   "cell_type": "markdown",
   "id": "4882ef61",
   "metadata": {},
   "source": [
    "**18. Find the nearest value from a given value (z) in an array (Z)**"
   ]
  },
  {
   "cell_type": "code",
   "execution_count": 10,
   "id": "6a672218",
   "metadata": {},
   "outputs": [
    {
     "name": "stdout",
     "output_type": "stream",
     "text": [
      "Array Z: [0.17906533 0.33461132 0.1216312  0.47982417 0.4921258  0.6732823\n",
      " 0.76673026 0.16705965 0.73747169 0.86299578]\n",
      "Value to search for (z): 0.5\n",
      "Nearest value: 0.4921258001940144\n",
      "Index of nearest value: 4\n"
     ]
    }
   ],
   "source": [
    "Z = np.random.uniform(0,1,10)\n",
    "z = 0.5\n",
    "# Include your solution below\n",
    "nearest_value = Z[np.abs(Z - z).argmin()]\n",
    "\n",
    "nearest_index = np.abs(Z - z).argmin()\n",
    "\n",
    "print(\"Array Z:\", Z)\n",
    "print(\"Value to search for (z):\", z)\n",
    "print(\"Nearest value:\", nearest_value)\n",
    "print(\"Index of nearest value:\", nearest_index)\n",
    "\n"
   ]
  },
  {
   "cell_type": "markdown",
   "id": "1b359b48",
   "metadata": {},
   "source": [
    "**19. Consider the vector [5, 4, 3, 2, 1], how to build a new vector with 3 consecutive zeros interleaved between each value?**"
   ]
  },
  {
   "cell_type": "code",
   "execution_count": 11,
   "id": "78033671",
   "metadata": {},
   "outputs": [
    {
     "name": "stdout",
     "output_type": "stream",
     "text": [
      "[4. 0. 0. 0. 3. 0. 0. 0. 2. 0. 0. 0. 1. 0. 0. 0. 0.]\n"
     ]
    }
   ],
   "source": [
    "arr = np.arange(5)[::-1]\n",
    "zeros = 3\n",
    "# Include your solution below\n",
    "result = np.zeros(len(arr) * (zeros + 1) - zeros)\n",
    "result[::zeros+1] = arr\n",
    "\n",
    "print(result)"
   ]
  },
  {
   "cell_type": "markdown",
   "id": "bbb34ee8",
   "metadata": {},
   "source": [
    "**20. Consider an array of dimension (5,5,3), how to mulitply it element-wise by an array with dimensions (5,5) - i.e., (5,5,0)$\\times$(5,5), (5,5,1)$\\times$(5,5), (5,5,2)$\\times$(5,5)**\n",
    "\n",
    "<br> Element-wise multiplication, or Hadamard Product, multiples every element of the first matrix by the equivalent element in the second matrix. When using this method, both matrices should have the same dimensions."
   ]
  },
  {
   "cell_type": "code",
   "execution_count": 13,
   "id": "d9f47e30",
   "metadata": {},
   "outputs": [
    {
     "name": "stdout",
     "output_type": "stream",
     "text": [
      "(3, 5, 5)\n",
      "[[[2. 2. 2. 2. 2.]\n",
      "  [2. 2. 2. 2. 2.]\n",
      "  [2. 2. 2. 2. 2.]\n",
      "  [2. 2. 2. 2. 2.]\n",
      "  [2. 2. 2. 2. 2.]]\n",
      "\n",
      " [[2. 2. 2. 2. 2.]\n",
      "  [2. 2. 2. 2. 2.]\n",
      "  [2. 2. 2. 2. 2.]\n",
      "  [2. 2. 2. 2. 2.]\n",
      "  [2. 2. 2. 2. 2.]]\n",
      "\n",
      " [[2. 2. 2. 2. 2.]\n",
      "  [2. 2. 2. 2. 2.]\n",
      "  [2. 2. 2. 2. 2.]\n",
      "  [2. 2. 2. 2. 2.]\n",
      "  [2. 2. 2. 2. 2.]]]\n"
     ]
    }
   ],
   "source": [
    "A = np.ones((3,5,5)) #3 Sets, 5 Rows per Set, 5 Columns\n",
    "B = 2*np.ones((5,5))\n",
    "# Include your solution below\n",
    "result = A * B[np.newaxis, :, :]\n",
    "\n",
    "print(result.shape)\n",
    "print(result)\n"
   ]
  },
  {
   "cell_type": "markdown",
   "id": "147c7e98",
   "metadata": {},
   "source": [
    "**21. Swap the first and second rows of the 2D array below**"
   ]
  },
  {
   "cell_type": "code",
   "execution_count": 14,
   "id": "167cd3da",
   "metadata": {},
   "outputs": [
    {
     "name": "stdout",
     "output_type": "stream",
     "text": [
      "Original array:\n",
      "[[ 0  1  2  3  4]\n",
      " [ 5  6  7  8  9]\n",
      " [10 11 12 13 14]\n",
      " [15 16 17 18 19]\n",
      " [20 21 22 23 24]\n",
      " [25 26 27 28 29]]\n",
      "\n",
      "Array after swapping first and second rows:\n",
      "[[ 5  6  7  8  9]\n",
      " [ 0  1  2  3  4]\n",
      " [10 11 12 13 14]\n",
      " [15 16 17 18 19]\n",
      " [20 21 22 23 24]\n",
      " [25 26 27 28 29]]\n"
     ]
    }
   ],
   "source": [
    "arr = np.arange(30).reshape(6,5)\n",
    "\n",
    "# Include your solution below\n",
    "print(\"Original array:\")\n",
    "print(arr)\n",
    "\n",
    "arr[[0, 1]] = arr[[1, 0]]\n",
    "\n",
    "print(\"\\nArray after swapping first and second rows:\")\n",
    "print(arr)\n"
   ]
  },
  {
   "cell_type": "markdown",
   "id": "b9d3c9f4",
   "metadata": {},
   "source": [
    "**22. Write a function that receives as input a 2D Boolean NumPy array and outputs the coordinates of the minimal bounding-box\n",
    "that encloses all non-zero elements in the input array**\n",
    "\n",
    "**Tip:** search for the functions nonzero in the NumPy documentation.\n",
    "\n",
    "<img src=\"Figures/bin_image.png\" width=\"150\" /> "
   ]
  },
  {
   "cell_type": "code",
   "execution_count": 18,
   "id": "ba68addb",
   "metadata": {},
   "outputs": [
    {
     "data": {
      "image/png": "[encoded data removed]",
      "text/plain": [
       "<Figure size 640x480 with 1 Axes>"
      ]
     },
     "metadata": {},
     "output_type": "display_data"
    },
    {
     "name": "stdout",
     "output_type": "stream",
     "text": [
      "Bounding box coordinates: x_min=3, y_min=2, x_max=6, y_max=7\n"
     ]
    }
   ],
   "source": [
    "from matplotlib.patches import Rectangle\n",
    "\n",
    "def bbox(img):\n",
    "    # Find the indices of non-zero elements\n",
    "    rows, cols = np.nonzero(img)\n",
    "    \n",
    "    # If the image is empty (all zeros), return None or some default value\n",
    "    if len(rows) == 0 or len(cols) == 0:\n",
    "        return None\n",
    "    \n",
    "    # Find the min and max of row and column indices\n",
    "    x_min, y_min = np.min(cols), np.min(rows)\n",
    "    x_max, y_max = np.max(cols), np.max(rows)\n",
    "    \n",
    "    return x_min, y_min, x_max, y_max\n",
    "\n",
    "# Create a sample binary image\n",
    "img = np.zeros((10, 10), dtype=bool)\n",
    "img[2:8, 3:7] = True  # Create a rectangular shape of True values\n",
    "\n",
    "# Get the bounding box coordinates\n",
    "x_min, y_min, x_max, y_max = bbox(img)\n",
    "\n",
    "# Display the image\n",
    "plt.imshow(img, cmap='binary')\n",
    "\n",
    "# Add the bounding box to the image\n",
    "plt.gca().add_patch(Rectangle((x_min-0.5, y_min-0.5), x_max-x_min+1, y_max-y_min+1, \n",
    "                              linewidth=2, edgecolor='r', facecolor='none'))\n",
    "\n",
    "# Show the plot\n",
    "plt.title('Binary Image with Bounding Box')\n",
    "plt.show()\n",
    "\n",
    "# Print the bounding box coordinates\n",
    "print(f\"Bounding box coordinates: x_min={x_min}, y_min={y_min}, x_max={x_max}, y_max={y_max}\")"
   ]
  },
  {
   "cell_type": "markdown",
   "id": "20e0d092",
   "metadata": {},
   "source": [
    "**23.Write a function to compute the average over a sliding window of length N over a 1D array?** Assume the size of the array is divisible by N\n",
    "\n",
    "*Example:* [1,2,3,4,5,6,7,8,9], N = 3 -> [2,5,8]"
   ]
  },
  {
   "cell_type": "code",
   "execution_count": 23,
   "id": "0a4bd3ca",
   "metadata": {},
   "outputs": [
    {
     "name": "stdout",
     "output_type": "stream",
     "text": [
      "[2. 5. 8.]\n"
     ]
    }
   ],
   "source": [
    "def moving_average(x, N):\n",
    "    #define your function here\n",
    "    reshaped = x.reshape(-1, N)\n",
    "    return np.mean(reshaped, axis=1)\n",
    "\n",
    "a = np.arange(1, 10)\n",
    "N = 3\n",
    "print(moving_average(a,N))"
   ]
  },
  {
   "cell_type": "markdown",
   "id": "e88decef",
   "metadata": {},
   "source": [
    "**24.  Given a sorted 1D array C that corresponds to a bincount, how to produce an array A such that np.bincount(A) == C?**\n",
    "\n",
    "*Example:* C = [3,2,4] -> D = [0,0,0,1,1,2,2,2,2]\n",
    "\n",
    "*Tip:* Consider using the NumPy repeat function"
   ]
  },
  {
   "cell_type": "code",
   "execution_count": 27,
   "id": "e8f171ae",
   "metadata": {},
   "outputs": [
    {
     "name": "stdout",
     "output_type": "stream",
     "text": [
      "Original D: [0 0 0 1 1 2 2 2 2]\n",
      "Bincount C: [3 2 4]\n",
      "Reconstructed D: [0 0 0 1 1 2 2 2 2]\n",
      "Are the original and reconstructed arrays equal? True\n"
     ]
    }
   ],
   "source": [
    "D = np.array([0,0,0,1,1,2,2,2,2]) #count number of occurrences from 0 -> 2\n",
    "C = np.bincount(D)\n",
    "\n",
    "# Include your solution here\n",
    "\n",
    "def reconstruct_array_from_bincount(C):\n",
    "    indices = np.arange(len(C))\n",
    "    \n",
    "    reconstructed_D = np.repeat(indices, C)\n",
    "    \n",
    "    return reconstructed_D\n",
    "\n",
    "reconstructed_D = reconstruct_array_from_bincount(C)\n",
    "\n",
    "print(\"Original D:\", D)\n",
    "print(\"Bincount C:\", C)\n",
    "print(\"Reconstructed D:\", reconstructed_D)\n",
    "print(\"Are the original and reconstructed arrays equal?\", np.array_equal(D, reconstructed_D))\n",
    "\n"
   ]
  },
  {
   "cell_type": "markdown",
   "id": "d6b2cff6",
   "metadata": {},
   "source": [
    "**25. Find the most frequent value in the array below?**"
   ]
  },
  {
   "cell_type": "code",
   "execution_count": 30,
   "id": "d49e1bd2",
   "metadata": {},
   "outputs": [
    {
     "name": "stdout",
     "output_type": "stream",
     "text": [
      "Array: [3 0 5 5 0 5 1 8 8 3 9 9 7 8 4 9 4 9 3 9 0 8 9 2 6 9 4 7 5 8 3 2 8 4 9 4 7\n",
      " 2 7 1 9 9 1 8 3 8 7 5 5 1]\n",
      "Most frequent value: 9\n"
     ]
    }
   ],
   "source": [
    "arr = np.random.randint(0,10,50)\n",
    "# Include your solution below\n",
    "def most_frequent_value(arr):\n",
    "    \n",
    "    counts = np.bincount(arr)\n",
    "    \n",
    "    most_frequent = np.argmax(counts)\n",
    "    \n",
    "    return most_frequent\n",
    "    \n",
    "most_frequent = most_frequent_value(arr)\n",
    "\n",
    "print(\"Array:\", arr)\n",
    "print(\"Most frequent value:\", most_frequent)"
   ]
  },
  {
   "cell_type": "markdown",
   "id": "9f73e434",
   "metadata": {},
   "source": [
    "**26. Write a function to return the n largest values of an array** "
   ]
  },
  {
   "cell_type": "code",
   "execution_count": 33,
   "id": "1ad00362",
   "metadata": {},
   "outputs": [
    {
     "name": "stdout",
     "output_type": "stream",
     "text": [
      "[99 98 97 96 95]\n"
     ]
    }
   ],
   "source": [
    "def nlargest(a, n = 5):\n",
    "    # Include your solution here\n",
    "    sorted_arr = np.sort(a)[::-1]\n",
    "    \n",
    "    return sorted_arr[:n]  \n",
    "\n",
    "arr = np.arange(100)\n",
    "np.random.shuffle(arr)\n",
    "n = 5\n",
    "print(nlargest(arr,n))    "
   ]
  },
  {
   "cell_type": "code",
   "execution_count": null,
   "id": "08d13232-98c6-4cf0-8d4c-f97e66645f65",
   "metadata": {},
   "outputs": [],
   "source": []
  }
 ],
 "metadata": {
  "kernelspec": {
   "display_name": "Python 3 (ipykernel)",
   "language": "python",
   "name": "python3"
  },
  "language_info": {
   "codemirror_mode": {
    "name": "ipython",
    "version": 3
   },
   "file_extension": ".py",
   "mimetype": "text/x-python",
   "name": "python",
   "nbconvert_exporter": "python",
   "pygments_lexer": "ipython3",
   "version": "3.12.3"
  }
 },
 "nbformat": 4,
 "nbformat_minor": 5
}
